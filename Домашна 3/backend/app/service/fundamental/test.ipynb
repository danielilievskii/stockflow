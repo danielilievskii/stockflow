{
 "cells": [
  {
   "metadata": {
    "ExecuteTime": {
     "end_time": "2024-12-26T18:05:00.759880Z",
     "start_time": "2024-12-26T18:04:50.981544Z"
    }
   },
   "cell_type": "code",
   "source": "from app.service.fundamental.fundamentalAnalysis import perform_fundamental_analysis",
   "id": "bbf4c47708f11da5",
   "outputs": [
    {
     "name": "stderr",
     "output_type": "stream",
     "text": [
      "C:\\Users\\ivasp\\anaconda3\\envs\\VVNP\\Lib\\site-packages\\tqdm\\auto.py:21: TqdmWarning: IProgress not found. Please update jupyter and ipywidgets. See https://ipywidgets.readthedocs.io/en/stable/user_install.html\n",
      "  from .autonotebook import tqdm as notebook_tqdm\n"
     ]
    }
   ],
   "execution_count": 1
  },
  {
   "metadata": {
    "ExecuteTime": {
     "end_time": "2024-12-26T18:12:59.570896Z",
     "start_time": "2024-12-26T18:12:40.973620Z"
    }
   },
   "cell_type": "code",
   "source": [
    "company_name = \"BGOR\"\n",
    "company_predictions = perform_fundamental_analysis(company_name)"
   ],
   "id": "22d085e6e2bc62d1",
   "outputs": [
    {
     "name": "stdout",
     "output_type": "stream",
     "text": [
      "Found 4 news articles\n",
      "0\n",
      "3\n",
      "1\n"
     ]
    }
   ],
   "execution_count": 9
  },
  {
   "metadata": {
    "ExecuteTime": {
     "end_time": "2024-12-26T18:13:02.357557Z",
     "start_time": "2024-12-26T18:13:02.344141Z"
    }
   },
   "cell_type": "code",
   "source": "print(company_predictions)",
   "id": "a2ee6e093b582569",
   "outputs": [
    {
     "name": "stdout",
     "output_type": "stream",
     "text": [
      "Sell\n"
     ]
    }
   ],
   "execution_count": 10
  },
  {
   "metadata": {
    "ExecuteTime": {
     "end_time": "2024-12-26T18:05:22.418603Z",
     "start_time": "2024-12-26T18:05:21.665772Z"
    }
   },
   "cell_type": "code",
   "source": [
    "company_name = \"RZUS\"\n",
    "company_predictions = perform_fundamental_analysis(company_name)"
   ],
   "id": "f4e407cac7605121",
   "outputs": [
    {
     "name": "stdout",
     "output_type": "stream",
     "text": [
      "Found 0 news articles\n",
      "0\n",
      "4\n",
      "2\n"
     ]
    }
   ],
   "execution_count": 2
  },
  {
   "metadata": {
    "ExecuteTime": {
     "end_time": "2024-12-26T18:05:34.232157Z",
     "start_time": "2024-12-26T18:05:34.226849Z"
    }
   },
   "cell_type": "code",
   "source": "print(company_predictions)",
   "id": "7ed2c1cbe193c1e7",
   "outputs": [
    {
     "name": "stdout",
     "output_type": "stream",
     "text": [
      "Sell\n"
     ]
    }
   ],
   "execution_count": 3
  },
  {
   "metadata": {},
   "cell_type": "code",
   "outputs": [],
   "execution_count": null,
   "source": "",
   "id": "4413a3e86b0619d5"
  }
 ],
 "metadata": {
  "kernelspec": {
   "display_name": "Python 3",
   "language": "python",
   "name": "python3"
  },
  "language_info": {
   "codemirror_mode": {
    "name": "ipython",
    "version": 2
   },
   "file_extension": ".py",
   "mimetype": "text/x-python",
   "name": "python",
   "nbconvert_exporter": "python",
   "pygments_lexer": "ipython2",
   "version": "2.7.6"
  }
 },
 "nbformat": 4,
 "nbformat_minor": 5
}
