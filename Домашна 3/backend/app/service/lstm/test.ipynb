{
 "cells": [
  {
   "metadata": {
    "ExecuteTime": {
     "end_time": "2024-12-26T17:49:22.501598Z",
     "start_time": "2024-12-26T17:49:12.848168Z"
    }
   },
   "cell_type": "code",
   "source": "from app.service.lstm.lstm_prediction import perform_lstm_analysis",
   "id": "8df54004c6d4274e",
   "outputs": [],
   "execution_count": 1
  },
  {
   "cell_type": "code",
   "id": "initial_id",
   "metadata": {
    "collapsed": true,
    "ExecuteTime": {
     "end_time": "2024-12-26T17:50:17.338606Z",
     "start_time": "2024-12-26T17:50:17.310549Z"
    }
   },
   "source": [
    "company_name = \"KMB\"\n",
    "company_predictions = perform_lstm_analysis(company_name,3)"
   ],
   "outputs": [],
   "execution_count": 5
  },
  {
   "metadata": {
    "ExecuteTime": {
     "end_time": "2024-12-26T17:50:19.595672Z",
     "start_time": "2024-12-26T17:50:19.588139Z"
    }
   },
   "cell_type": "code",
   "source": "print(company_predictions)",
   "id": "2054a89e5d73e139",
   "outputs": [
    {
     "name": "stdout",
     "output_type": "stream",
     "text": [
      "[{'company name': 'KMB', 'date': '2024-12-27', 'price': 31900.000000000004}, {'company name': 'KMB', 'date': '2024-12-28', 'price': 31900.000000000004}, {'company name': 'KMB', 'date': '2024-12-29', 'price': 31900.000000000004}]\n"
     ]
    }
   ],
   "execution_count": 6
  },
  {
   "metadata": {},
   "cell_type": "code",
   "outputs": [],
   "execution_count": null,
   "source": "",
   "id": "5b983da68fa58556"
  }
 ],
 "metadata": {
  "kernelspec": {
   "display_name": "Python 3",
   "language": "python",
   "name": "python3"
  },
  "language_info": {
   "codemirror_mode": {
    "name": "ipython",
    "version": 2
   },
   "file_extension": ".py",
   "mimetype": "text/x-python",
   "name": "python",
   "nbconvert_exporter": "python",
   "pygments_lexer": "ipython2",
   "version": "2.7.6"
  }
 },
 "nbformat": 4,
 "nbformat_minor": 5
}
