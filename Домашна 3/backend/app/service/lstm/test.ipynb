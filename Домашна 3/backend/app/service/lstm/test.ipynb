{
 "cells": [
  {
   "metadata": {
    "ExecuteTime": {
     "end_time": "2024-12-22T12:55:25.742353Z",
     "start_time": "2024-12-22T12:55:07.588864Z"
    }
   },
   "cell_type": "code",
   "source": "from app.service.lstm.lstm_prediction import process_and_predict_for_company",
   "id": "8df54004c6d4274e",
   "outputs": [],
   "execution_count": 2
  },
  {
   "cell_type": "code",
   "id": "initial_id",
   "metadata": {
    "collapsed": true,
    "ExecuteTime": {
     "end_time": "2024-12-22T13:02:06.623626Z",
     "start_time": "2024-12-22T13:00:43.504957Z"
    }
   },
   "source": [
    "company_name = \"KMB\"\n",
    "company_predictions = process_and_predict_for_company(company_name)"
   ],
   "outputs": [
    {
     "name": "stdout",
     "output_type": "stream",
     "text": [
      "Processing company: KMB\n",
      "No predictions found for company KMB.\n",
      "Querying stock data for company: KMB\n",
      "Found 2457 records\n"
     ]
    },
    {
     "name": "stderr",
     "output_type": "stream",
     "text": [
      "C:\\Users\\ivasp\\anaconda3\\envs\\VVNP\\Lib\\site-packages\\keras\\src\\layers\\rnn\\rnn.py:200: UserWarning: Do not pass an `input_shape`/`input_dim` argument to a layer. When using Sequential models, prefer using an `Input(shape)` object as the first layer in the model instead.\n",
      "  super().__init__(**kwargs)\n"
     ]
    },
    {
     "name": "stdout",
     "output_type": "stream",
     "text": [
      "Epoch 1/50\n",
      "\u001B[1m43/43\u001B[0m \u001B[32m━━━━━━━━━━━━━━━━━━━━\u001B[0m\u001B[37m\u001B[0m \u001B[1m13s\u001B[0m 61ms/step - loss: 0.0284 - mean_absolute_error: 0.0289 - mean_squared_error: 0.0015 - val_loss: 0.0357 - val_mean_absolute_error: 0.1078 - val_mean_squared_error: 0.0156\n",
      "Epoch 2/50\n",
      "\u001B[1m43/43\u001B[0m \u001B[32m━━━━━━━━━━━━━━━━━━━━\u001B[0m\u001B[37m\u001B[0m \u001B[1m1s\u001B[0m 30ms/step - loss: 0.0377 - mean_absolute_error: 0.1209 - mean_squared_error: 0.0189 - val_loss: 0.0229 - val_mean_absolute_error: 0.0819 - val_mean_squared_error: 0.0071\n",
      "Epoch 3/50\n",
      "\u001B[1m43/43\u001B[0m \u001B[32m━━━━━━━━━━━━━━━━━━━━\u001B[0m\u001B[37m\u001B[0m \u001B[1m1s\u001B[0m 28ms/step - loss: 0.0303 - mean_absolute_error: 0.1073 - mean_squared_error: 0.0152 - val_loss: 0.0183 - val_mean_absolute_error: 0.0638 - val_mean_squared_error: 0.0046\n",
      "Epoch 4/50\n",
      "\u001B[1m43/43\u001B[0m \u001B[32m━━━━━━━━━━━━━━━━━━━━\u001B[0m\u001B[37m\u001B[0m \u001B[1m1s\u001B[0m 28ms/step - loss: 0.0199 - mean_absolute_error: 0.0709 - mean_squared_error: 0.0066 - val_loss: 0.0127 - val_mean_absolute_error: 0.0119 - val_mean_squared_error: 3.1339e-04\n",
      "Epoch 5/50\n",
      "\u001B[1m43/43\u001B[0m \u001B[32m━━━━━━━━━━━━━━━━━━━━\u001B[0m\u001B[37m\u001B[0m \u001B[1m1s\u001B[0m 30ms/step - loss: 0.0143 - mean_absolute_error: 0.0405 - mean_squared_error: 0.0022 - val_loss: 0.0118 - val_mean_absolute_error: 0.0144 - val_mean_squared_error: 4.0566e-04\n",
      "Epoch 6/50\n",
      "\u001B[1m43/43\u001B[0m \u001B[32m━━━━━━━━━━━━━━━━━━━━\u001B[0m\u001B[37m\u001B[0m \u001B[1m1s\u001B[0m 28ms/step - loss: 0.0122 - mean_absolute_error: 0.0274 - mean_squared_error: 0.0010 - val_loss: 0.0113 - val_mean_absolute_error: 0.0217 - val_mean_squared_error: 8.0521e-04\n",
      "Epoch 7/50\n",
      "\u001B[1m43/43\u001B[0m \u001B[32m━━━━━━━━━━━━━━━━━━━━\u001B[0m\u001B[37m\u001B[0m \u001B[1m1s\u001B[0m 28ms/step - loss: 0.0109 - mean_absolute_error: 0.0201 - mean_squared_error: 5.8113e-04 - val_loss: 0.0105 - val_mean_absolute_error: 0.0218 - val_mean_squared_error: 8.1379e-04\n",
      "Epoch 8/50\n",
      "\u001B[1m43/43\u001B[0m \u001B[32m━━━━━━━━━━━━━━━━━━━━\u001B[0m\u001B[37m\u001B[0m \u001B[1m1s\u001B[0m 29ms/step - loss: 0.0097 - mean_absolute_error: 0.0094 - mean_squared_error: 1.4207e-04 - val_loss: 0.0095 - val_mean_absolute_error: 0.0171 - val_mean_squared_error: 5.3384e-04\n",
      "Epoch 9/50\n",
      "\u001B[1m43/43\u001B[0m \u001B[32m━━━━━━━━━━━━━━━━━━━━\u001B[0m\u001B[37m\u001B[0m \u001B[1m2s\u001B[0m 35ms/step - loss: 0.0089 - mean_absolute_error: 0.0074 - mean_squared_error: 9.3723e-05 - val_loss: 0.0086 - val_mean_absolute_error: 0.0118 - val_mean_squared_error: 3.0871e-04\n",
      "Epoch 10/50\n",
      "\u001B[1m43/43\u001B[0m \u001B[32m━━━━━━━━━━━━━━━━━━━━\u001B[0m\u001B[37m\u001B[0m \u001B[1m1s\u001B[0m 29ms/step - loss: 0.0082 - mean_absolute_error: 0.0093 - mean_squared_error: 1.2069e-04 - val_loss: 0.0080 - val_mean_absolute_error: 0.0136 - val_mean_squared_error: 3.5235e-04\n",
      "Epoch 11/50\n",
      "\u001B[1m43/43\u001B[0m \u001B[32m━━━━━━━━━━━━━━━━━━━━\u001B[0m\u001B[37m\u001B[0m \u001B[1m2s\u001B[0m 34ms/step - loss: 0.0076 - mean_absolute_error: 0.0091 - mean_squared_error: 1.1651e-04 - val_loss: 0.0075 - val_mean_absolute_error: 0.0179 - val_mean_squared_error: 5.3120e-04\n",
      "Epoch 12/50\n",
      "\u001B[1m43/43\u001B[0m \u001B[32m━━━━━━━━━━━━━━━━━━━━\u001B[0m\u001B[37m\u001B[0m \u001B[1m1s\u001B[0m 30ms/step - loss: 0.0070 - mean_absolute_error: 0.0086 - mean_squared_error: 1.0867e-04 - val_loss: 0.0068 - val_mean_absolute_error: 0.0125 - val_mean_squared_error: 3.3606e-04\n",
      "Epoch 13/50\n",
      "\u001B[1m43/43\u001B[0m \u001B[32m━━━━━━━━━━━━━━━━━━━━\u001B[0m\u001B[37m\u001B[0m \u001B[1m1s\u001B[0m 29ms/step - loss: 0.0064 - mean_absolute_error: 0.0074 - mean_squared_error: 8.8565e-05 - val_loss: 0.0062 - val_mean_absolute_error: 0.0118 - val_mean_squared_error: 3.1352e-04\n",
      "Epoch 14/50\n",
      "\u001B[1m43/43\u001B[0m \u001B[32m━━━━━━━━━━━━━━━━━━━━\u001B[0m\u001B[37m\u001B[0m \u001B[1m1s\u001B[0m 30ms/step - loss: 0.0059 - mean_absolute_error: 0.0084 - mean_squared_error: 1.1104e-04 - val_loss: 0.0058 - val_mean_absolute_error: 0.0132 - val_mean_squared_error: 3.6325e-04\n",
      "Epoch 15/50\n",
      "\u001B[1m43/43\u001B[0m \u001B[32m━━━━━━━━━━━━━━━━━━━━\u001B[0m\u001B[37m\u001B[0m \u001B[1m1s\u001B[0m 25ms/step - loss: 0.0054 - mean_absolute_error: 0.0071 - mean_squared_error: 8.3740e-05 - val_loss: 0.0053 - val_mean_absolute_error: 0.0128 - val_mean_squared_error: 3.5229e-04\n",
      "Epoch 16/50\n",
      "\u001B[1m43/43\u001B[0m \u001B[32m━━━━━━━━━━━━━━━━━━━━\u001B[0m\u001B[37m\u001B[0m \u001B[1m1s\u001B[0m 31ms/step - loss: 0.0050 - mean_absolute_error: 0.0071 - mean_squared_error: 8.1504e-05 - val_loss: 0.0049 - val_mean_absolute_error: 0.0119 - val_mean_squared_error: 3.2534e-04\n",
      "Epoch 17/50\n",
      "\u001B[1m43/43\u001B[0m \u001B[32m━━━━━━━━━━━━━━━━━━━━\u001B[0m\u001B[37m\u001B[0m \u001B[1m1s\u001B[0m 28ms/step - loss: 0.0046 - mean_absolute_error: 0.0076 - mean_squared_error: 8.9620e-05 - val_loss: 0.0045 - val_mean_absolute_error: 0.0112 - val_mean_squared_error: 3.0662e-04\n",
      "Epoch 18/50\n",
      "\u001B[1m43/43\u001B[0m \u001B[32m━━━━━━━━━━━━━━━━━━━━\u001B[0m\u001B[37m\u001B[0m \u001B[1m1s\u001B[0m 27ms/step - loss: 0.0042 - mean_absolute_error: 0.0080 - mean_squared_error: 9.9519e-05 - val_loss: 0.0042 - val_mean_absolute_error: 0.0114 - val_mean_squared_error: 3.0785e-04\n",
      "Epoch 19/50\n",
      "\u001B[1m43/43\u001B[0m \u001B[32m━━━━━━━━━━━━━━━━━━━━\u001B[0m\u001B[37m\u001B[0m \u001B[1m1s\u001B[0m 30ms/step - loss: 0.0039 - mean_absolute_error: 0.0091 - mean_squared_error: 1.1768e-04 - val_loss: 0.0039 - val_mean_absolute_error: 0.0117 - val_mean_squared_error: 3.1795e-04\n",
      "Epoch 20/50\n",
      "\u001B[1m43/43\u001B[0m \u001B[32m━━━━━━━━━━━━━━━━━━━━\u001B[0m\u001B[37m\u001B[0m \u001B[1m1s\u001B[0m 27ms/step - loss: 0.0037 - mean_absolute_error: 0.0110 - mean_squared_error: 1.8088e-04 - val_loss: 0.0036 - val_mean_absolute_error: 0.0118 - val_mean_squared_error: 3.1876e-04\n",
      "Epoch 21/50\n",
      "\u001B[1m43/43\u001B[0m \u001B[32m━━━━━━━━━━━━━━━━━━━━\u001B[0m\u001B[37m\u001B[0m \u001B[1m1s\u001B[0m 27ms/step - loss: 0.0033 - mean_absolute_error: 0.0094 - mean_squared_error: 1.3490e-04 - val_loss: 0.0033 - val_mean_absolute_error: 0.0119 - val_mean_squared_error: 3.2077e-04\n",
      "Epoch 22/50\n",
      "\u001B[1m43/43\u001B[0m \u001B[32m━━━━━━━━━━━━━━━━━━━━\u001B[0m\u001B[37m\u001B[0m \u001B[1m1s\u001B[0m 29ms/step - loss: 0.0031 - mean_absolute_error: 0.0085 - mean_squared_error: 1.1246e-04 - val_loss: 0.0031 - val_mean_absolute_error: 0.0118 - val_mean_squared_error: 3.2194e-04\n",
      "Epoch 23/50\n",
      "\u001B[1m43/43\u001B[0m \u001B[32m━━━━━━━━━━━━━━━━━━━━\u001B[0m\u001B[37m\u001B[0m \u001B[1m1s\u001B[0m 29ms/step - loss: 0.0028 - mean_absolute_error: 0.0074 - mean_squared_error: 9.0475e-05 - val_loss: 0.0029 - val_mean_absolute_error: 0.0117 - val_mean_squared_error: 3.2286e-04\n",
      "Epoch 24/50\n",
      "\u001B[1m43/43\u001B[0m \u001B[32m━━━━━━━━━━━━━━━━━━━━\u001B[0m\u001B[37m\u001B[0m \u001B[1m1s\u001B[0m 31ms/step - loss: 0.0026 - mean_absolute_error: 0.0069 - mean_squared_error: 8.0234e-05 - val_loss: 0.0027 - val_mean_absolute_error: 0.0118 - val_mean_squared_error: 3.2833e-04\n",
      "Epoch 25/50\n",
      "\u001B[1m43/43\u001B[0m \u001B[32m━━━━━━━━━━━━━━━━━━━━\u001B[0m\u001B[37m\u001B[0m \u001B[1m1s\u001B[0m 31ms/step - loss: 0.0024 - mean_absolute_error: 0.0066 - mean_squared_error: 7.6098e-05 - val_loss: 0.0025 - val_mean_absolute_error: 0.0120 - val_mean_squared_error: 3.3796e-04\n",
      "Epoch 26/50\n",
      "\u001B[1m43/43\u001B[0m \u001B[32m━━━━━━━━━━━━━━━━━━━━\u001B[0m\u001B[37m\u001B[0m \u001B[1m1s\u001B[0m 27ms/step - loss: 0.0022 - mean_absolute_error: 0.0065 - mean_squared_error: 7.4561e-05 - val_loss: 0.0024 - val_mean_absolute_error: 0.0123 - val_mean_squared_error: 3.5205e-04\n",
      "Epoch 27/50\n",
      "\u001B[1m43/43\u001B[0m \u001B[32m━━━━━━━━━━━━━━━━━━━━\u001B[0m\u001B[37m\u001B[0m \u001B[1m1s\u001B[0m 28ms/step - loss: 0.0020 - mean_absolute_error: 0.0066 - mean_squared_error: 7.6722e-05 - val_loss: 0.0022 - val_mean_absolute_error: 0.0126 - val_mean_squared_error: 3.6788e-04\n",
      "Epoch 28/50\n",
      "\u001B[1m43/43\u001B[0m \u001B[32m━━━━━━━━━━━━━━━━━━━━\u001B[0m\u001B[37m\u001B[0m \u001B[1m1s\u001B[0m 28ms/step - loss: 0.0019 - mean_absolute_error: 0.0068 - mean_squared_error: 8.0489e-05 - val_loss: 0.0021 - val_mean_absolute_error: 0.0129 - val_mean_squared_error: 3.8803e-04\n",
      "Epoch 29/50\n",
      "\u001B[1m43/43\u001B[0m \u001B[32m━━━━━━━━━━━━━━━━━━━━\u001B[0m\u001B[37m\u001B[0m \u001B[1m1s\u001B[0m 28ms/step - loss: 0.0018 - mean_absolute_error: 0.0071 - mean_squared_error: 8.6725e-05 - val_loss: 0.0020 - val_mean_absolute_error: 0.0133 - val_mean_squared_error: 4.1216e-04\n",
      "Epoch 30/50\n",
      "\u001B[1m43/43\u001B[0m \u001B[32m━━━━━━━━━━━━━━━━━━━━\u001B[0m\u001B[37m\u001B[0m \u001B[1m1s\u001B[0m 28ms/step - loss: 0.0017 - mean_absolute_error: 0.0074 - mean_squared_error: 9.3154e-05 - val_loss: 0.0019 - val_mean_absolute_error: 0.0138 - val_mean_squared_error: 4.3650e-04\n",
      "Epoch 31/50\n",
      "\u001B[1m43/43\u001B[0m \u001B[32m━━━━━━━━━━━━━━━━━━━━\u001B[0m\u001B[37m\u001B[0m \u001B[1m1s\u001B[0m 33ms/step - loss: 0.0016 - mean_absolute_error: 0.0078 - mean_squared_error: 1.0076e-04 - val_loss: 0.0019 - val_mean_absolute_error: 0.0143 - val_mean_squared_error: 4.6870e-04\n",
      "Epoch 32/50\n",
      "\u001B[1m43/43\u001B[0m \u001B[32m━━━━━━━━━━━━━━━━━━━━\u001B[0m\u001B[37m\u001B[0m \u001B[1m1s\u001B[0m 30ms/step - loss: 0.0015 - mean_absolute_error: 0.0082 - mean_squared_error: 1.1064e-04 - val_loss: 0.0018 - val_mean_absolute_error: 0.0152 - val_mean_squared_error: 5.1562e-04\n",
      "Epoch 33/50\n",
      "\u001B[1m43/43\u001B[0m \u001B[32m━━━━━━━━━━━━━━━━━━━━\u001B[0m\u001B[37m\u001B[0m \u001B[1m1s\u001B[0m 30ms/step - loss: 0.0014 - mean_absolute_error: 0.0086 - mean_squared_error: 1.2056e-04 - val_loss: 0.0018 - val_mean_absolute_error: 0.0158 - val_mean_squared_error: 5.4969e-04\n",
      "Epoch 34/50\n",
      "\u001B[1m43/43\u001B[0m \u001B[32m━━━━━━━━━━━━━━━━━━━━\u001B[0m\u001B[37m\u001B[0m \u001B[1m1s\u001B[0m 31ms/step - loss: 0.0013 - mean_absolute_error: 0.0090 - mean_squared_error: 1.3093e-04 - val_loss: 0.0017 - val_mean_absolute_error: 0.0166 - val_mean_squared_error: 5.9478e-04\n",
      "Epoch 35/50\n",
      "\u001B[1m43/43\u001B[0m \u001B[32m━━━━━━━━━━━━━━━━━━━━\u001B[0m\u001B[37m\u001B[0m \u001B[1m1s\u001B[0m 29ms/step - loss: 0.0013 - mean_absolute_error: 0.0096 - mean_squared_error: 1.4387e-04 - val_loss: 0.0017 - val_mean_absolute_error: 0.0173 - val_mean_squared_error: 6.2983e-04\n",
      "Epoch 36/50\n",
      "\u001B[1m43/43\u001B[0m \u001B[32m━━━━━━━━━━━━━━━━━━━━\u001B[0m\u001B[37m\u001B[0m \u001B[1m1s\u001B[0m 28ms/step - loss: 0.0012 - mean_absolute_error: 0.0100 - mean_squared_error: 1.5632e-04 - val_loss: 0.0017 - val_mean_absolute_error: 0.0183 - val_mean_squared_error: 6.8268e-04\n",
      "Epoch 37/50\n",
      "\u001B[1m43/43\u001B[0m \u001B[32m━━━━━━━━━━━━━━━━━━━━\u001B[0m\u001B[37m\u001B[0m \u001B[1m1s\u001B[0m 27ms/step - loss: 0.0012 - mean_absolute_error: 0.0104 - mean_squared_error: 1.6973e-04 - val_loss: 0.0017 - val_mean_absolute_error: 0.0191 - val_mean_squared_error: 7.2553e-04\n",
      "Epoch 38/50\n",
      "\u001B[1m43/43\u001B[0m \u001B[32m━━━━━━━━━━━━━━━━━━━━\u001B[0m\u001B[37m\u001B[0m \u001B[1m1s\u001B[0m 28ms/step - loss: 0.0011 - mean_absolute_error: 0.0108 - mean_squared_error: 1.8071e-04 - val_loss: 0.0017 - val_mean_absolute_error: 0.0201 - val_mean_squared_error: 7.8467e-04\n",
      "Epoch 39/50\n",
      "\u001B[1m43/43\u001B[0m \u001B[32m━━━━━━━━━━━━━━━━━━━━\u001B[0m\u001B[37m\u001B[0m \u001B[1m1s\u001B[0m 29ms/step - loss: 0.0011 - mean_absolute_error: 0.0110 - mean_squared_error: 1.8979e-04 - val_loss: 0.0017 - val_mean_absolute_error: 0.0205 - val_mean_squared_error: 8.0901e-04\n",
      "Epoch 40/50\n",
      "\u001B[1m43/43\u001B[0m \u001B[32m━━━━━━━━━━━━━━━━━━━━\u001B[0m\u001B[37m\u001B[0m \u001B[1m1s\u001B[0m 27ms/step - loss: 0.0011 - mean_absolute_error: 0.0112 - mean_squared_error: 1.9544e-04 - val_loss: 0.0017 - val_mean_absolute_error: 0.0219 - val_mean_squared_error: 8.9179e-04\n",
      "Epoch 41/50\n",
      "\u001B[1m43/43\u001B[0m \u001B[32m━━━━━━━━━━━━━━━━━━━━\u001B[0m\u001B[37m\u001B[0m \u001B[1m1s\u001B[0m 26ms/step - loss: 0.0010 - mean_absolute_error: 0.0113 - mean_squared_error: 2.0129e-04 - val_loss: 0.0017 - val_mean_absolute_error: 0.0222 - val_mean_squared_error: 9.1736e-04\n",
      "Epoch 42/50\n",
      "\u001B[1m43/43\u001B[0m \u001B[32m━━━━━━━━━━━━━━━━━━━━\u001B[0m\u001B[37m\u001B[0m \u001B[1m1s\u001B[0m 29ms/step - loss: 9.9868e-04 - mean_absolute_error: 0.0110 - mean_squared_error: 1.9275e-04 - val_loss: 0.0017 - val_mean_absolute_error: 0.0224 - val_mean_squared_error: 9.3559e-04\n",
      "Epoch 43/50\n",
      "\u001B[1m43/43\u001B[0m \u001B[32m━━━━━━━━━━━━━━━━━━━━\u001B[0m\u001B[37m\u001B[0m \u001B[1m1s\u001B[0m 27ms/step - loss: 9.6273e-04 - mean_absolute_error: 0.0108 - mean_squared_error: 1.8619e-04 - val_loss: 0.0018 - val_mean_absolute_error: 0.0233 - val_mean_squared_error: 9.9609e-04\n",
      "Epoch 44/50\n",
      "\u001B[1m43/43\u001B[0m \u001B[32m━━━━━━━━━━━━━━━━━━━━\u001B[0m\u001B[37m\u001B[0m \u001B[1m1s\u001B[0m 27ms/step - loss: 9.3097e-04 - mean_absolute_error: 0.0106 - mean_squared_error: 1.8215e-04 - val_loss: 0.0017 - val_mean_absolute_error: 0.0230 - val_mean_squared_error: 9.8158e-04\n",
      "Epoch 45/50\n",
      "\u001B[1m43/43\u001B[0m \u001B[32m━━━━━━━━━━━━━━━━━━━━\u001B[0m\u001B[37m\u001B[0m \u001B[1m1s\u001B[0m 27ms/step - loss: 9.0093e-04 - mean_absolute_error: 0.0104 - mean_squared_error: 1.7671e-04 - val_loss: 0.0018 - val_mean_absolute_error: 0.0252 - val_mean_squared_error: 0.0011\n",
      "Epoch 46/50\n",
      "\u001B[1m43/43\u001B[0m \u001B[32m━━━━━━━━━━━━━━━━━━━━\u001B[0m\u001B[37m\u001B[0m \u001B[1m1s\u001B[0m 26ms/step - loss: 8.7871e-04 - mean_absolute_error: 0.0105 - mean_squared_error: 1.7816e-04 - val_loss: 0.0017 - val_mean_absolute_error: 0.0240 - val_mean_squared_error: 0.0011\n",
      "Epoch 47/50\n",
      "\u001B[1m43/43\u001B[0m \u001B[32m━━━━━━━━━━━━━━━━━━━━\u001B[0m\u001B[37m\u001B[0m \u001B[1m1s\u001B[0m 28ms/step - loss: 8.4758e-04 - mean_absolute_error: 0.0101 - mean_squared_error: 1.6778e-04 - val_loss: 0.0018 - val_mean_absolute_error: 0.0253 - val_mean_squared_error: 0.0012\n",
      "Epoch 48/50\n",
      "\u001B[1m43/43\u001B[0m \u001B[32m━━━━━━━━━━━━━━━━━━━━\u001B[0m\u001B[37m\u001B[0m \u001B[1m1s\u001B[0m 32ms/step - loss: 8.2187e-04 - mean_absolute_error: 0.0099 - mean_squared_error: 1.6206e-04 - val_loss: 0.0017 - val_mean_absolute_error: 0.0244 - val_mean_squared_error: 0.0011\n",
      "Epoch 49/50\n",
      "\u001B[1m43/43\u001B[0m \u001B[32m━━━━━━━━━━━━━━━━━━━━\u001B[0m\u001B[37m\u001B[0m \u001B[1m1s\u001B[0m 25ms/step - loss: 8.0029e-04 - mean_absolute_error: 0.0098 - mean_squared_error: 1.5927e-04 - val_loss: 0.0018 - val_mean_absolute_error: 0.0248 - val_mean_squared_error: 0.0011\n",
      "\u001B[1m1/1\u001B[0m \u001B[32m━━━━━━━━━━━━━━━━━━━━\u001B[0m\u001B[37m\u001B[0m \u001B[1m1s\u001B[0m 665ms/step\n",
      "\u001B[1m1/1\u001B[0m \u001B[32m━━━━━━━━━━━━━━━━━━━━\u001B[0m\u001B[37m\u001B[0m \u001B[1m0s\u001B[0m 109ms/step\n",
      "\u001B[1m1/1\u001B[0m \u001B[32m━━━━━━━━━━━━━━━━━━━━\u001B[0m\u001B[37m\u001B[0m \u001B[1m0s\u001B[0m 93ms/step\n",
      "Predictions for KMB: {'company': 'KMB', 'last_prediction': '2024-12-22', '2024-12-23': 42832.98, '2024-12-24': 58460.87, '2024-12-25': 105843.66}\n"
     ]
    }
   ],
   "execution_count": 9
  },
  {
   "metadata": {
    "ExecuteTime": {
     "end_time": "2024-12-22T13:02:08.473093Z",
     "start_time": "2024-12-22T13:02:08.459103Z"
    }
   },
   "cell_type": "code",
   "source": "print(company_predictions)",
   "id": "2054a89e5d73e139",
   "outputs": [
    {
     "name": "stdout",
     "output_type": "stream",
     "text": [
      "{'company': 'KMB', 'last_prediction': '2024-12-22', '2024-12-23': 42832.98, '2024-12-24': 58460.87, '2024-12-25': 105843.66}\n"
     ]
    }
   ],
   "execution_count": 10
  },
  {
   "metadata": {},
   "cell_type": "code",
   "outputs": [],
   "execution_count": null,
   "source": "",
   "id": "5b983da68fa58556"
  }
 ],
 "metadata": {
  "kernelspec": {
   "display_name": "Python 3",
   "language": "python",
   "name": "python3"
  },
  "language_info": {
   "codemirror_mode": {
    "name": "ipython",
    "version": 2
   },
   "file_extension": ".py",
   "mimetype": "text/x-python",
   "name": "python",
   "nbconvert_exporter": "python",
   "pygments_lexer": "ipython2",
   "version": "2.7.6"
  }
 },
 "nbformat": 4,
 "nbformat_minor": 5
}
